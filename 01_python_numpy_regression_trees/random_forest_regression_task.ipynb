{
 "cells": [
  {
   "cell_type": "markdown",
   "metadata": {},
   "source": [
    "##### 1. (0 баллов) \n",
    "\n",
    "Загрузите из sklearn датасет цен на жилье в Бостоне.\n",
    "<br>\n",
    "Разделите данные на 90% обучающую и тестовую выборку с помощью функции <a href=\"http://scikit-learn.org/stable/modules/generated/sklearn.model_selection.train_test_split.html\">train_test_split</a>\n",
    "<br>\n",
    "Разделите данные на два numpy массива: массив фич и массив с целевой переменной.\n",
    "<br>\n",
    "<br>\n",
    "Описание датасета [по ссылке.](http://scikit-learn.org/stable/datasets/index.html#boston-house-prices-dataset)\n",
    "<br>\n",
    "Документация и пример использования [по ссылке.](http://scikit-learn.org/stable/modules/generated/sklearn.datasets.load_boston.html)"
   ]
  },
  {
   "cell_type": "code",
   "execution_count": 12,
   "metadata": {},
   "outputs": [],
   "source": [
    "%matplotlib inline\n",
    "import matplotlib.pyplot as plt\n",
    "from sklearn.datasets import load_boston\n",
    "from sklearn.model_selection import train_test_split\n",
    "import pandas as pd\n",
    "boston = load_boston()\n",
    "X = boston.data\n",
    "y = boston.target\n",
    "X_train, X_test, y_train, y_test = train_test_split(X, y, test_size=0.20, random_state=42)"
   ]
  },
  {
   "cell_type": "markdown",
   "metadata": {},
   "source": [
    "##### 2. <b>(2 балла)</b>\n",
    "\n",
    "Обучите [RandomForestRegressor](http://scikit-learn.org/stable/modules/generated/sklearn.ensemble.RandomForestRegressor.html) на трейне. \n",
    "\n",
    "Примените модель на тестовых данных. (метод predict)\n",
    "<br>\n",
    "Посчитайте ошибку на трейне и на тесте (mse или mae, в зависимости от того, что вы использовали в обучении).\n",
    "<br>\n",
    "Как это сделать, можно посмотреть по ссылкам:\n",
    "[mae](http://scikit-learn.org/stable/modules/generated/sklearn.metrics.mean_absolute_error.html)\n",
    "[mse](http://scikit-learn.org/stable/modules/generated/sklearn.metrics.mean_squared_error.html)\n"
   ]
  },
  {
   "cell_type": "code",
   "execution_count": 9,
   "metadata": {},
   "outputs": [
    {
     "name": "stdout",
     "output_type": "stream",
     "text": [
      "Ошибка mse: 7.972297058823528\n",
      "Точночть (score): 0.8912875251315697\n"
     ]
    }
   ],
   "source": [
    "from sklearn.ensemble import RandomForestRegressor\n",
    "from sklearn.metrics import mean_squared_error\n",
    "\n",
    "clf = RandomForestRegressor(criterion='mse')\n",
    "clf.fit(X_train, y_train)\n",
    "y_pred = clf.predict(X_test)\n",
    "\n",
    "y_error = mean_squared_error(y_test, y_pred)\n",
    "print(\"Ошибка mse: {}\".format(y_error))\n",
    "\n",
    "score = clf.score(X_test, y_test)\n",
    "print (\"Точночть (score): {}\".format(score))"
   ]
  },
  {
   "cell_type": "markdown",
   "metadata": {},
   "source": [
    "#### 3. \n",
    "Попробуйте поварьировать такие параметры, как: \n",
    "- <b>(1 балл)</b> количество деревьев (n_estimators)\n",
    "- <b>(1 балл)</b> функция потерь (mse или mae)\n",
    "- <b>(1 балл)</b> какие фичи использовать в обучении\n",
    "- <b>(1 балл)</b> число фич в сплите (max_features)\n",
    "- <b>(1 балл)</b> использование bootstrap (bootstrap=True)\n",
    "\n",
    "Как себя ведет ошибка на трейне и тесте? Какие выводы можно сделать?"
   ]
  },
  {
   "cell_type": "code",
   "execution_count": null,
   "metadata": {},
   "outputs": [],
   "source": []
  },
  {
   "cell_type": "markdown",
   "metadata": {},
   "source": [
    "##### 4. (3 балла) \n",
    "\n",
    "Зафиксируя наиболее оптимальные параметры из предыдущего пункта, постройте графики функции ошибки в зависимости от параметра max_depth на train и test. При каком значении max_depth происходит переобучение? Обоснуйте ответ"
   ]
  },
  {
   "cell_type": "code",
   "execution_count": 16,
   "metadata": {},
   "outputs": [
    {
     "data": {
      "text/plain": [
       "[<matplotlib.lines.Line2D at 0x11b7e2a58>]"
      ]
     },
     "execution_count": 16,
     "metadata": {},
     "output_type": "execute_result"
    },
    {
     "data": {
      "image/png": "[encoded data removed]",
      "text/plain": [
       "<Figure size 432x288 with 1 Axes>"
      ]
     },
     "metadata": {},
     "output_type": "display_data"
    }
   ],
   "source": [
    "errors = list()\n",
    "for max_depath in range(1,100):\n",
    "    dtr = RandomForestRegressor(criterion='mse', max_depth=max_depath)\n",
    "    dtr.fit(X_train, y_train)\n",
    "    y_pred = dtr.predict(X_test)\n",
    "    y_error = mean_squared_error(y_test, y_pred)\n",
    "    errors.append(y_error)\n",
    "plt.plot(errors)"
   ]
  },
  {
   "cell_type": "code",
   "execution_count": null,
   "metadata": {},
   "outputs": [],
   "source": []
  }
 ],
 "metadata": {
  "kernelspec": {
   "display_name": "Python 3",
   "language": "python",
   "name": "python3"
  },
  "language_info": {
   "codemirror_mode": {
    "name": "ipython",
    "version": 3
   },
   "file_extension": ".py",
   "mimetype": "text/x-python",
   "name": "python",
   "nbconvert_exporter": "python",
   "pygments_lexer": "ipython3",
   "version": "3.6.5"
  }
 },
 "nbformat": 4,
 "nbformat_minor": 2
}
